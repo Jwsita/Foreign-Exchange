{
 "cells": [
  {
   "cell_type": "markdown",
   "metadata": {},
   "source": [
    "## FINM 37301 Foreign Exchange 2023     \n",
    "## Problem Set #2 "
   ]
  },
  {
   "cell_type": "markdown",
   "metadata": {},
   "source": [
    "Jingwen Li"
   ]
  },
  {
   "cell_type": "markdown",
   "metadata": {},
   "source": [
    "11) (This problem counts for 4 points) Relative volatility of spot, forward and points\n",
    "Let St be the spot FX rate at time t. For this exercise we assume t is measured in years, and t refers to the “trade date”, i.e., the time rates are observed in the market, not the “value date”.\n",
    "\n",
    "    Let Ft be the 5-month forward rate. Specifically, for any time t, Ft is the quoted rate for a 5-month forward (i.e., Ft is not a specific contract, but rather a rate observed each day in the market.)\n",
    "\n",
    "    We want to calculate the standard deviations of log(Ft) and log(Ft/St) over the period [0, 1], assuming that covered interest rate parity holds. To be clear, standard deviation in this case is measuring the uncertainty in what log(Ft) and log(Ft/St) will be at time t=1 conditional on their values at time t=0.\n",
    "\n",
    "    Assume log(St) has an annualized standard deviation of 12% over this period [0,1], and that the 5- month tenor “variable currency” interest rate and the 5-month tenor “fixed currency” interest rate have annualized standard deviations of 0.95% (95 basis points) and 1.15%, respectively.\n",
    "\n",
    "    (And for simplicity treat these interest rates as continuously compounded with 0.42 as the appropriate year fraction.)\n",
    "\n",
    "    If we assume the interest rates and log(St) are all uncorrelated, then what are the annualized standard deviations of log(Ft) and log(Ft/St) over the period?"
   ]
  },
  {
   "cell_type": "markdown",
   "metadata": {},
   "source": [
    "Using formula: F(t,T) = St * Pt / Pd = St * exp[(rd - rf) * (T - t )]"
   ]
  },
  {
   "cell_type": "code",
   "execution_count": 111,
   "metadata": {},
   "outputs": [
    {
     "name": "stdout",
     "output_type": "stream",
     "text": [
      " Annualized std of log(Ft): 0.126552\n",
      " Annualized std of log(Ft/St): 0.040191\n"
     ]
    }
   ],
   "source": [
    "std_logFt = round((0.12**2+(0.095**2+0.0115**2) * 0.42**2) ** 0.5,6)\n",
    "print(f' Annualized std of log(Ft): {std_logFt}')\n",
    "std_log = round((((0.095**2+0.0115**2) * 0.42**2) ** 0.5),6)\n",
    "print(f' Annualized std of log(Ft/St): {std_log}')"
   ]
  },
  {
   "cell_type": "markdown",
   "metadata": {},
   "source": [
    "12) Assume there are 181 days between spot and the 6-month forward date and assume the following rates (with bid offer listed). Assume all deposit rates are quoted ACT/360:\n",
    "\n",
    "    USDCHF 0.9305 / 0.9307\n",
    "\n",
    "    6mo CHF deposit 1.20% / 1.30%\n",
    "    \n",
    "    6mo USD deposit 4.80% / 4.90%\n",
    "\n",
    "    Under covered interest rate parity, what is the bid and offer for 6-month USDCHF forward points?"
   ]
  },
  {
   "cell_type": "code",
   "execution_count": 16,
   "metadata": {},
   "outputs": [],
   "source": [
    "USDCHF_bid = 0.9305\n",
    "USDCHF_offer = 0.9307\n",
    "\n",
    "R_CHF_bid = 0.012\n",
    "R_CHF_offer = 0.013\n",
    "\n",
    "R_USD_bid = 0.048\n",
    "R_USD_offer = 0.049"
   ]
  },
  {
   "cell_type": "markdown",
   "metadata": {},
   "source": [
    "    a. Bid for 6-month USDCHF forward points"
   ]
  },
  {
   "cell_type": "code",
   "execution_count": 21,
   "metadata": {},
   "outputs": [
    {
     "data": {
      "text/plain": [
       "-168.93689900750576"
      ]
     },
     "execution_count": 21,
     "metadata": {},
     "output_type": "execute_result"
    }
   ],
   "source": [
    "fwd_bid = USDCHF_bid * (1 + R_CHF_bid * 181/360) / (1 + R_USD_offer * 181/360) \n",
    "fwd_Points_bid = (fwd_bid - USDCHF_bid) * 10000\n",
    "fwd_Points_bid"
   ]
  },
  {
   "cell_type": "markdown",
   "metadata": {},
   "source": [
    "    b. Offer for 6-month USDCHF forward points"
   ]
  },
  {
   "cell_type": "code",
   "execution_count": 22,
   "metadata": {},
   "outputs": [
    {
     "data": {
      "text/plain": [
       "-159.91799299136412"
      ]
     },
     "execution_count": 22,
     "metadata": {},
     "output_type": "execute_result"
    }
   ],
   "source": [
    "fwd_offer = USDCHF_offer * (1 + R_CHF_offer * 181/360) / (1 + R_USD_bid * 181/360)\n",
    "fwd_Points_offer = (fwd_offer - USDCHF_offer) * 10000\n",
    "fwd_Points_offer"
   ]
  },
  {
   "cell_type": "markdown",
   "metadata": {},
   "source": [
    "13) If South Korean won (KRW) deposit rates are lower than USD deposit rates for a particular maturity, then must the USDKRW non-deliverable forward rate for the same maturity be lower than the USDKRW spot rate?\n",
    "    \n",
    "    Please give a brief explanation for your answer."
   ]
  },
  {
   "cell_type": "markdown",
   "metadata": {},
   "source": [
    " Ans: Though it is currently the case, but since KRW is a non-deliverable currency, covered interest parity does not always hold true, because oversea investor cannot borrow at the deposit rate of KRW, thus the USDKRW Non-deliverable forward rate does not always lower than the USDKRW spot rate"
   ]
  },
  {
   "cell_type": "markdown",
   "metadata": {},
   "source": [
    "14) Calculate the Norwegian krone (NOK) interest rates implied by the following forward rates (“implied yield”). Please calculate both bid and offer side interest rates.\n",
    "USD deposit rates below are money market, ACT/360 and the implied yield should also be calculated as ACT/360 money market rates.\n",
    "\n",
    "    USDNOK spot         9.8570 / 9.8580\n",
    "\n",
    "    USDNOK 3mo fwd      9.8155 / 9.8195\n",
    "\n",
    "    3mo USD deposit     4.55% / 4.65%\n",
    "    \n",
    "    Days spot to 3mo    92\n",
    "       "
   ]
  },
  {
   "cell_type": "code",
   "execution_count": 69,
   "metadata": {},
   "outputs": [],
   "source": [
    "USDNOK_bid = 9.8570\n",
    "USDNOK_offer = 9.8580\n",
    "\n",
    "fwd_bid = 9.8155\n",
    "fwd_offer = 9.8195\n",
    "\n",
    "R_USD_bid = 0.0455\n",
    "R_USD_offer = 0.0465\n",
    "\n",
    "t_3m = 92"
   ]
  },
  {
   "cell_type": "markdown",
   "metadata": {},
   "source": [
    "    a. Bid side implied yield of NOK"
   ]
  },
  {
   "cell_type": "code",
   "execution_count": 70,
   "metadata": {},
   "outputs": [
    {
     "data": {
      "text/plain": [
       "0.029829506508286"
      ]
     },
     "execution_count": 70,
     "metadata": {},
     "output_type": "execute_result"
    }
   ],
   "source": [
    "R_NOK_bid = (fwd_bid/USDNOK_bid * (1 + R_USD_offer * t_3m/360) - 1) * 360/t_3m\n",
    "R_NOK_bid"
   ]
  },
  {
   "cell_type": "markdown",
   "metadata": {},
   "source": [
    "    b. Offer side implied yield of NOK"
   ]
  },
  {
   "cell_type": "code",
   "execution_count": 71,
   "metadata": {},
   "outputs": [
    {
     "data": {
      "text/plain": [
       "0.03004007669780402"
      ]
     },
     "execution_count": 71,
     "metadata": {},
     "output_type": "execute_result"
    }
   ],
   "source": [
    "R_NOK_offer = (fwd_offer/USDNOK_offer * (1 + R_USD_bid * t_3m/360) - 1) * 360/t_3m\n",
    "R_NOK_offer"
   ]
  },
  {
   "cell_type": "markdown",
   "metadata": {},
   "source": [
    "15) Given the information below, calculate the FX swap points for a long USDCHF position maturing in 3 months that needs to be rolled out to the 6 month date. Assume you are a market-taker.\n",
    "\n",
    "    USDCHF 0.9320 / 0.9322\n",
    "\n",
    "    Days spot to 3months Days 91\n",
    "\n",
    "    spot to 6months 182\n",
    "\n",
    "    3mo USD deposit 4.60% / 4.70% \n",
    "\n",
    "    6mo USD deposit 4.85% / 4.95% \n",
    "\n",
    "    3mo CHF deposit 1.10% / 1.15% \n",
    "    \n",
    "    6mo CHF deposit 1.25% / 1.30%\n",
    " \n",
    "    NOTE: Assume all interest rates are money market rates using ACT/360."
   ]
  },
  {
   "cell_type": "code",
   "execution_count": 60,
   "metadata": {},
   "outputs": [],
   "source": [
    "USDCHF_bid = 0.9320\n",
    "USDCHF_offer = 0.9322\n",
    "\n",
    "R_USD_3m_bid = 0.046\n",
    "R_USD_3m_offer = 0.047\n",
    "\n",
    "R_USD_6m_bid = 0.0485\n",
    "R_USD_6m_offer = 0.0495\n",
    "\n",
    "R_CHF_3m_bid = 0.011\n",
    "R_CHF_3m_offer = 0.0115\n",
    "\n",
    "R_CHF_6m_bid = 0.0125\n",
    "R_CHF_6m_offer = 0.0130\n",
    "\n",
    "t_3m = 91\n",
    "t_6m = 182"
   ]
  },
  {
   "cell_type": "markdown",
   "metadata": {},
   "source": [
    "    From Market-taker's perspective:"
   ]
  },
  {
   "cell_type": "code",
   "execution_count": 68,
   "metadata": {},
   "outputs": [
    {
     "name": "stdout",
     "output_type": "stream",
     "text": [
      "3m forward rate bid :0.9236183783219915\n",
      "6m forward rate bid :0.9149920462644543\n",
      "swap points bid: 86.26332057537157\n"
     ]
    }
   ],
   "source": [
    "fwd_3m_bid = USDCHF_bid * (1 + R_CHF_3m_bid * t_3m/360) / (1 + R_USD_3m_offer * t_3m/360) \n",
    "print(f'3m forward rate bid :{fwd_3m_bid}')\n",
    "fwd_6m_bid = USDCHF_bid * (1 + R_CHF_6m_bid * t_6m/360) / (1 + R_USD_6m_offer * t_6m/360)\n",
    "print(f'6m forward rate bid :{fwd_6m_bid}')\n",
    "swap_points_bid = (fwd_3m_bid - fwd_6m_bid) * 10000\n",
    "print(f'swap points bid: {swap_points_bid}')"
   ]
  },
  {
   "cell_type": "code",
   "execution_count": 67,
   "metadata": {},
   "outputs": [],
   "source": [
    "# fwd_3m_offer = USDCHF_offer * (1 + R_CHF_3m_offer * 91/360) / (1 + R_USD_3m_bid * 91/360) \n",
    "# print(f'3m forward rate offer :{fwd_3m_offer}')\n",
    "# fwd_6m_offer = USDCHF_offer * (1 + R_CHF_6m_offer * 182/360) / (1 + R_USD_6m_bid * 182/360)\n",
    "# print(f'6m forward rate offer :{fwd_6m_offer}')\n",
    "# swap_points_offer = (fwd_3m_offer - fwd_6m_offer) * 10000\n",
    "# print(f'swap points offer: {swap_points_offer}')"
   ]
  },
  {
   "cell_type": "markdown",
   "metadata": {},
   "source": [
    "16) Given the information below, calculate the forward-forward FX swap points for a short AUDUSD position maturing in 2 years that needs to be shortened to the 1-year date. Assume you are a market-taker. What would the near date and far date all-in forward rates be for the FX swap?\n",
    "\n",
    "    AUDUSD spot 0.6678 / 0.6680\n",
    "\n",
    "    1yr points  +73 / +78\n",
    "    \n",
    "    2yr points +66 / +71\n",
    "\n"
   ]
  },
  {
   "cell_type": "code",
   "execution_count": 80,
   "metadata": {},
   "outputs": [],
   "source": [
    "AUDUSD_bid = 0.6678\n",
    "AUDUSD_offer = 0.6680\n",
    "\n",
    "fwd_points_1y_bid = 73\n",
    "fwd_points_1y_offer = 78\n",
    "\n",
    "fwd_points_2y_bid = 66\n",
    "fwd_points_2y_offer = 71"
   ]
  },
  {
   "cell_type": "markdown",
   "metadata": {},
   "source": [
    "long AUDUSD, forward offer is the bid for the market-taker to take for short AUDUSD"
   ]
  },
  {
   "cell_type": "code",
   "execution_count": 85,
   "metadata": {},
   "outputs": [
    {
     "name": "stdout",
     "output_type": "stream",
     "text": [
      "swap points:7\n",
      "near date forward rate: 0.6758\n",
      "far date forward rate: 0.6751\n"
     ]
    }
   ],
   "source": [
    "swap_points = fwd_points_1y_offer - fwd_points_2y_offer\n",
    "print(f'swap points:{swap_points}')\n",
    "\n",
    "print(f'near date forward rate: {round((AUDUSD_offer + fwd_points_1y_offer/10000),4)}')\n",
    "print(f'far date forward rate: {round((AUDUSD_offer + fwd_points_2y_offer/10000),4)}')"
   ]
  },
  {
   "cell_type": "markdown",
   "metadata": {},
   "source": [
    "17) (This problem counts for 4 points) Window forward:\n",
    "A client needs to buy Mexican peso (MXN) 1 billion versus USD but is unsure of the timing. The client asks you to quote a single forward rate where the client will be committed to buy MXN 1 billion, but can do so any time between the 3 month (91 days) and 6 month (183 days) forward dates.\n",
    "Assuming the rates below (ignoring bid and offer, and assuming covered interest rate parity holds and that both currencies follow an ACT/360 convention) what forward rate would you quote? (Hint: you are allowed to be greedy, but not unreasonable.)\n",
    " USDMXN spot 3mo USD deposit 6mo USD deposit 3mo MXN deposit 6mo MXN deposit\n",
    "19.77 4.60% 4.70% 10.70% 11.20%."
   ]
  },
  {
   "cell_type": "code",
   "execution_count": 95,
   "metadata": {},
   "outputs": [],
   "source": [
    "USDMXN = 19.77\n",
    "R_USD_3m = 0.046\n",
    "R_USD_6m = 0.047\n",
    "R_MXN_3m = 0.107\n",
    "R_MXN_6m = 0.112"
   ]
  },
  {
   "cell_type": "code",
   "execution_count": 99,
   "metadata": {},
   "outputs": [
    {
     "data": {
      "text/plain": [
       "20.407991079785457"
      ]
     },
     "execution_count": 99,
     "metadata": {},
     "output_type": "execute_result"
    }
   ],
   "source": [
    "fwd_6m = USDMXN * (1 + R_MXN_6m * 183/360) / (1 + R_USD_6m * 183/360)\n",
    "fwd_6m"
   ]
  },
  {
   "cell_type": "code",
   "execution_count": 97,
   "metadata": {},
   "outputs": [
    {
     "data": {
      "text/plain": [
       "20.071338519328037"
      ]
     },
     "execution_count": 97,
     "metadata": {},
     "output_type": "execute_result"
    }
   ],
   "source": [
    "fwd_3m = USDMXN * (1 + R_MXN_3m * 91/360) / (1 + R_USD_3m * 91/360)\n",
    "fwd_3m"
   ]
  },
  {
   "cell_type": "markdown",
   "metadata": {},
   "source": [
    "Ans: Since I am buying USDMXN, I want to choose the lower rate to make more, thus, I'll quote lower 6M foward rate, which is 20.071"
   ]
  },
  {
   "cell_type": "markdown",
   "metadata": {},
   "source": [
    "18) Would you be willing to offer the product in problem 17 above if the client asked to sell CAD 100 million instead of MXN 1 billion, when CAD deposit rates are equal to USD deposit rates? Why or why not? (HINT: Do CAD interest rates present a difficulty?)"
   ]
  },
  {
   "cell_type": "markdown",
   "metadata": {},
   "source": [
    "Ans: Yes, I would still offer a forward rate higher than the spot rate, because I can borrow CAD 100 million to hedge my position, thus the profit is risk free and I still make profit from offering a rate to my advantage."
   ]
  }
 ],
 "metadata": {
  "kernelspec": {
   "display_name": "Python 3 (ipykernel)",
   "language": "python",
   "name": "python3"
  },
  "language_info": {
   "codemirror_mode": {
    "name": "ipython",
    "version": 3
   },
   "file_extension": ".py",
   "mimetype": "text/x-python",
   "name": "python",
   "nbconvert_exporter": "python",
   "pygments_lexer": "ipython3",
   "version": "3.9.6"
  },
  "vscode": {
   "interpreter": {
    "hash": "31f2aee4e71d21fbe5cf8b01ff0e069b9275f58929596ceb00d14d90e3e16cd6"
   }
  }
 },
 "nbformat": 4,
 "nbformat_minor": 2
}
