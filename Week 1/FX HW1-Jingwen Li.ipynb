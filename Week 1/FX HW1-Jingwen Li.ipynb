{
 "cells": [
  {
   "attachments": {},
   "cell_type": "markdown",
   "metadata": {},
   "source": [
    "## FINM 37301 Foreign Exchange 2023     \n",
    "## Problem Set #1 "
   ]
  },
  {
   "attachments": {},
   "cell_type": "markdown",
   "metadata": {},
   "source": [
    "Jingwen Li"
   ]
  },
  {
   "cell_type": "code",
   "execution_count": 36,
   "metadata": {},
   "outputs": [],
   "source": [
    "from scipy.optimize import fsolve\n",
    "import numpy as np"
   ]
  },
  {
   "attachments": {},
   "cell_type": "markdown",
   "metadata": {},
   "source": [
    "1) If EURJPY is 145.35, how many EUR can JPY 250,000,000 buy? "
   ]
  },
  {
   "cell_type": "code",
   "execution_count": 87,
   "metadata": {},
   "outputs": [
    {
     "name": "stdout",
     "output_type": "stream",
     "text": [
      "JPY 250,000,000 can buy 1719986.24 EUR.\n"
     ]
    }
   ],
   "source": [
    "EUR_amount  = round(250000000/145.35,2)\n",
    "print(f'JPY 250,000,000 can buy {EUR_amount} EUR.')"
   ]
  },
  {
   "attachments": {},
   "cell_type": "markdown",
   "metadata": {},
   "source": [
    "2) Assuming the following rates (which include both bid and offer)  \n",
    "    - EURUSD   1.0625 / 27 \n",
    "    - USDJPY   136.35 / 40 \n",
    " \n",
    "    a) If a customer (i.e., market taker) buys USD 25 million versus EUR, what will the EUR amount be? \n",
    "    \n",
    "    b) If a customer buys USD 10 million versus JPY, what will the JPY amount be?  "
   ]
  },
  {
   "cell_type": "code",
   "execution_count": 10,
   "metadata": {},
   "outputs": [
    {
     "name": "stdout",
     "output_type": "stream",
     "text": [
      "USD 250,000,000 can buy 23524983.53 EUR.\n",
      "USD 10,000,000 can buy 13635000000.0 JPY.\n"
     ]
    }
   ],
   "source": [
    "EUR_amount = round(25000000/1.0627,2)\n",
    "JPY_amount = round(100000000 * 136.35,2)\n",
    "print(f'USD 250,000,000 can buy {EUR_amount} EUR.')\n",
    "print(f'USD 10,000,000 can buy {JPY_amount} JPY.')"
   ]
  },
  {
   "attachments": {},
   "cell_type": "markdown",
   "metadata": {},
   "source": [
    "3) Derive the following cross rates from their components using the spot rates listed below. Assume all \n",
    "rates are mid-market and ignore bid-offer spread for this exercise  \n",
    "\n",
    "    Assume these rates:         Calculate these rates: \n",
    "    \n",
    "    USDJPY    136.85                a)  EURJPY \n",
    "     \n",
    "    GBPUSD   1.2175                 b)  CHFJPY  \n",
    "    \n",
    "    USDCHF   0.9305                 c)  EURGBP \n",
    "    \n",
    "    EURUSD   1.0625                 d)  GBPCHF \n",
    " "
   ]
  },
  {
   "cell_type": "code",
   "execution_count": 14,
   "metadata": {},
   "outputs": [
    {
     "name": "stdout",
     "output_type": "stream",
     "text": [
      "EURJPY = 145.4031\n",
      "CHFJPY = 147.0715\n",
      "EURGBP = 0.8727\n",
      "GBPCHF = 1.1329\n"
     ]
    }
   ],
   "source": [
    "USDJPY = 136.85\n",
    "GBPUSD = 1.2175\n",
    "USDCHF = 0.9305\n",
    "EURUSD = 1.0625\n",
    "\n",
    "EURJPY = round(USDJPY * EURUSD,4)\n",
    "CHFJPY = round(USDJPY / USDCHF,4)\n",
    "EURGBP = round(EURUSD / GBPUSD,4)\n",
    "GBPCHF = round(USDCHF * GBPUSD,4)\n",
    "\n",
    "print(f'EURJPY = {EURJPY}')\n",
    "print(f'CHFJPY = {CHFJPY}')\n",
    "print(f'EURGBP = {EURGBP}')\n",
    "print(f'GBPCHF = {GBPCHF}')\n"
   ]
  },
  {
   "attachments": {},
   "cell_type": "markdown",
   "metadata": {},
   "source": [
    "4) A trader has the following position, selling CAD 35.70 million versus USD at 1.4120. If the current \n",
    "USDCAD rate is 1.3628, what is the mark-to-market value of the position? "
   ]
  },
  {
   "cell_type": "code",
   "execution_count": 52,
   "metadata": {},
   "outputs": [
    {
     "name": "stdout",
     "output_type": "stream",
     "text": [
      "The mark-to-market value of the position is -912780.8 USD\n"
     ]
    }
   ],
   "source": [
    "initial_USD = 35.7e6/1.4120\n",
    "current_USD = 35.7e6/1.3628\n",
    "position_USD = round(initial_USD - current_USD,2)\n",
    "print(f'The mark-to-market value of the position is {position_USD} USD')"
   ]
  },
  {
   "attachments": {},
   "cell_type": "markdown",
   "metadata": {},
   "source": [
    "5) A USD-based trader has the following position: selling EUR 105 million versus CHF at a spot EURCHF \n",
    "rate of 1.1025. The current spot EURCHF rate is 0.9865.  \n",
    " \n",
    "    a) What do you need to know to calculate the mark-to-market value of the position (in USD)?  \n",
    "    \n",
    "    b) Choose a level for the rate you need to know and show what USD-value the trade would have.  \n"
   ]
  },
  {
   "attachments": {},
   "cell_type": "markdown",
   "metadata": {},
   "source": [
    "a. I need to at least know the rate of one pair of EURUSD or USDCHF, so that I can convert the value in USD"
   ]
  },
  {
   "cell_type": "code",
   "execution_count": 56,
   "metadata": {},
   "outputs": [
    {
     "name": "stdout",
     "output_type": "stream",
     "text": [
      "The mark-to-market value of the position is 13089736.7 USD\n"
     ]
    }
   ],
   "source": [
    "USDCHF = 0.9305\n",
    "initial_CHF = 105e6 * 1.1025\n",
    "current_CHF = 105e6 * 0.9865\n",
    "position_CHF = initial_CHF - current_CHF\n",
    "position_USD = round(position_CHF / USDCHF,2)\n",
    "print(f'The mark-to-market value of the position is {position_USD} USD')"
   ]
  },
  {
   "attachments": {},
   "cell_type": "markdown",
   "metadata": {},
   "source": [
    "6) A EUR-based car manufacturing company sources parts from Mexico.  \n",
    "\n",
    "    a) What is the company’s immediate FX exposure (i.e., which currency pair is the company exposed to and is it long or short that pair?) \n",
    "    \n",
    "    b) What type of hedge would reduce the company’s FX risk? "
   ]
  },
  {
   "attachments": {},
   "cell_type": "markdown",
   "metadata": {},
   "source": [
    "a)\n",
    "- short EUR long MXN\n",
    "- short EURMXN\n",
    "\n",
    "b)\n",
    "The company could enter into a forward contract to lock in the future exchange rate for MXN"
   ]
  },
  {
   "attachments": {},
   "cell_type": "markdown",
   "metadata": {},
   "source": [
    "7) With the following information and assuming covered interest rate parity holds, determine if you \n",
    "would pay or earn the points and what the forward rate would be. (Note that the points are given \n",
    "without positive or negative signs.) \n",
    "\n",
    "    a) USDJPY spot rate 137.10, JPY deposit rate -0.10%, USD deposit rate 4.50%. You want to sell USD \n",
    "forward against the yen, and the forward points are quoted as “170”. \n",
    "\n",
    "    b) EURGBP spot rate 0.8750, EUR deposit rate 2.50%, GBP deposit rate 3.50%. You want to sell EUR \n",
    "forward against the British pound, and the forward points are quoted as “37”. "
   ]
  },
  {
   "cell_type": "code",
   "execution_count": 69,
   "metadata": {},
   "outputs": [
    {
     "name": "stdout",
     "output_type": "stream",
     "text": [
      "a) Since JPY deposit rate is lowest, it is expected to appreciate. The forward price for USDJPY is :  135.4\n",
      "b) Since EUR deposit rate is lowest, it is expected to appreciate. The forward price for EURGBP is : 0.8787\n"
     ]
    }
   ],
   "source": [
    "print('a) Since JPY deposit rate is lowest, it is expected to appreciate. The forward price for USDJPY is : ',round(137.10-170/100,4))\n",
    "print('b) Since EUR deposit rate is lowest, it is expected to appreciate. The forward price for EURGBP is :',round(0.8750+37/10000,4))"
   ]
  },
  {
   "attachments": {},
   "cell_type": "markdown",
   "metadata": {},
   "source": [
    "8) Find the all-in 6-month forward rate for GBPUSD, assuming covered interest rate parity holds, \n",
    "ignoring bid/ask, and assuming the following:  \n",
    " \n",
    "    - GBPUSD spot   1.2134  \n",
    "    - GBP deposit rate   3.52%  \n",
    "    - USD deposit rate   4.53%  \n",
    "    - 162 days between spot and the forward date  \n",
    " \n",
    "    Assume that GBP money market rates follow ACT/365, USD rates follow ACT/360. "
   ]
  },
  {
   "cell_type": "code",
   "execution_count": 136,
   "metadata": {},
   "outputs": [
    {
     "name": "stdout",
     "output_type": "stream",
     "text": [
      "all-in-6 month: 1.2185 USD\n"
     ]
    }
   ],
   "source": [
    "SPOT = 1.2134\n",
    "FORWARD = SPOT * (1 + (0.0453 * 162 / 365)) / (1 + (0.0352 * 162 / 360))\n",
    "print(f'all-in-6 month: {round(FORWARD,4)} USD')"
   ]
  },
  {
   "attachments": {},
   "cell_type": "markdown",
   "metadata": {},
   "source": [
    "9) Par forwards  \n",
    " \n",
    "    A client wants to sell EUR versus USD in a strip of three forwards, but they want you (a market \n",
    "maker) to quote a single rate for all three forwards as a single package.   \n",
    " \n",
    "    The client wishes to pay EUR 10 million on each of the 1-year, 2-year and 3-year dates.   \n",
    " \n",
    "    Calculate the rate you should quote. Assume all USD interest rates for all maturities equal 4.75% \n",
    "(use an annual bond basis for simplicity), and assume the following spot and forward rates:   \n",
    " \n",
    "    - EURUSD     1.0635  \n",
    "    - EURUSD 1 year   1.0858  \n",
    "    - EURUSD 2 year   1.1070   \n",
    "    - EURUSD 3 year   1.1271  "
   ]
  },
  {
   "cell_type": "code",
   "execution_count": 47,
   "metadata": {},
   "outputs": [
    {
     "name": "stdout",
     "output_type": "stream",
     "text": [
      "Rate for all three forwards:1.106\n"
     ]
    }
   ],
   "source": [
    "EUR_1YR = 1e7\n",
    "EUR_2YR = 1e7\n",
    "EUR_3YR = 1e7\n",
    "\n",
    "EURUSD = 1.0635\n",
    "EURUSD_1YR = 1.0858\n",
    "EURUSD_2YR = 1.1070\n",
    "EURUSD_3YR = 1.1271\n",
    "int = 0.0475\n",
    "\n",
    "\n",
    "USD_1YR = EUR_1YR * EURUSD_1YR\n",
    "USD_2YR = EUR_2YR * EURUSD_2YR\n",
    "USD_3YR = EUR_3YR * EURUSD_3YR\n",
    "\n",
    "USD_CUR = USD_1YR/(1+int) + USD_2YR/(1+int)**2 + USD_3YR/(1+int)**3\n",
    "EUR_CUR = EUR_1YR/(1+int) + EUR_2YR/(1+int)**2 + EUR_3YR/(1+int)**3\n",
    "rate = round(USD_CUR/EUR_CUR,4)\n",
    "print(f'Rate for all three forwards:{rate}')\n"
   ]
  },
  {
   "attachments": {},
   "cell_type": "markdown",
   "metadata": {},
   "source": [
    "10) (This problem counts for 4 points.) Assume there are 153 days between spot and the 5-month \n",
    "forward date, assume covered interest rate parity holds, and assume the following rates (all mid-\n",
    "market rates) and that both deposit rates are quoted ACT/360: \n",
    " \n",
    "    - USDCAD    1.3710  \n",
    "    - 5mo USD deposit   4.70%  \n",
    "    - 5mo CAD deposit   4.45%  \n",
    " \n",
    "    How many pips would spot have to move, and in which direction, before the forward points moved \n",
    "1 pip (higher)? "
   ]
  },
  {
   "cell_type": "code",
   "execution_count": 143,
   "metadata": {},
   "outputs": [
    {
     "data": {
      "text/plain": [
       "-959.9764705880942"
      ]
     },
     "execution_count": 143,
     "metadata": {},
     "output_type": "execute_result"
    }
   ],
   "source": [
    "SPOT = 1.371\n",
    "FORWARD = SPOT * (1 + 0.0445 * 153/360)/(1 + 0.047 * 153/360)\n",
    "\n",
    "POINT = FORWARD - SPOT\n",
    "move = 1/(POINT/SPOT)\n",
    "move"
   ]
  },
  {
   "cell_type": "markdown",
   "metadata": {},
   "source": []
  }
 ],
 "metadata": {
  "kernelspec": {
   "display_name": "Python 3",
   "language": "python",
   "name": "python3"
  },
  "language_info": {
   "codemirror_mode": {
    "name": "ipython",
    "version": 3
   },
   "file_extension": ".py",
   "mimetype": "text/x-python",
   "name": "python",
   "nbconvert_exporter": "python",
   "pygments_lexer": "ipython3",
   "version": "3.9.6"
  },
  "orig_nbformat": 4,
  "vscode": {
   "interpreter": {
    "hash": "31f2aee4e71d21fbe5cf8b01ff0e069b9275f58929596ceb00d14d90e3e16cd6"
   }
  }
 },
 "nbformat": 4,
 "nbformat_minor": 2
}
