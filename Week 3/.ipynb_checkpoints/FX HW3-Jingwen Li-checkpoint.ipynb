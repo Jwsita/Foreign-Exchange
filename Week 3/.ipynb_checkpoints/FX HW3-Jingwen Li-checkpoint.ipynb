{
 "cells": [
  {
   "cell_type": "markdown",
   "metadata": {},
   "source": [
    "## FINM 37301 Foreign Exchange 2023     \n",
    "## Problem Set #3"
   ]
  },
  {
   "cell_type": "markdown",
   "metadata": {},
   "source": [
    "Jingwen Li"
   ]
  },
  {
   "cell_type": "code",
   "execution_count": 47,
   "metadata": {},
   "outputs": [],
   "source": [
    "import math\n",
    "import scipy.stats as stats\n",
    "from datetime import datetime\n",
    "from sympy import latex\n",
    "from IPython.display import display, Math"
   ]
  },
  {
   "cell_type": "markdown",
   "metadata": {},
   "source": [
    "\n",
    "19) The price of an EUR call/USD put struck at 1.0800 is 0.0243. If the spot rate is 1.0630 and the forward rate is 1.0760, then what is the price of an EUR put/USD call struck at 1.0800?\n",
    "Assume 0.53 years to maturity (for both options and for the forward rate) and assume the relevant USD interest rate for discounting is 4.65% (this rate is a continuously compounded zero coupon rate)."
   ]
  },
  {
   "cell_type": "code",
   "execution_count": 53,
   "metadata": {},
   "outputs": [
    {
     "name": "stdout",
     "output_type": "stream",
     "text": [
      "Put Premium: 0.0282\n"
     ]
    }
   ],
   "source": [
    "call_premium = 0.0243\n",
    "strike = 1.0800\n",
    "forward_rate = 1.0760\n",
    "t = 0.53\n",
    "r = 0.0465\n",
    "\n",
    "put_premium = call_premium - math.exp(- r * t) * (forward_rate - strike)\n",
    "print('Put Premium:',round(put_premium,4))"
   ]
  },
  {
   "cell_type": "markdown",
   "metadata": {},
   "source": [
    "20) Why does the derivation of the Garman-Kohlhagen PDE for a foreign exchange spot rate differ from the derivation of the Black-Scholes PDE for a non-dividend-paying stock?\n",
    "\n",
    "    a) Foreign interest rates and spot FX rates are correlated, so adjustment terms must be introduced\n",
    "\n",
    "    b) The FX spot rate is not a traded asset, so we cannot construct a risk-free hedged portfolio\n",
    "\n",
    "    c) Foreign exchange positions must be present valued using the foreign interest rate\n",
    "    \n",
    "    d) A foreign currency position must be carried using a foreign risk-free bond"
   ]
  },
  {
   "cell_type": "markdown",
   "metadata": {},
   "source": [
    "<div style=\"font-family: 'Times New Roman'; font-size: 15px; color: green\">\n",
    "Ans: \n",
    "\n",
    "D. The difference between Black-Scholes and Garman-Kohlhagen is the rf term added to the later. The reason of the difference is due to the underline asset is a currency pair, while we taking into account of the interest earned on domestic currency, we should also include the loss of interest on foreign currency.\n",
    " \n",
    " </div>"
   ]
  },
  {
   "cell_type": "markdown",
   "metadata": {},
   "source": [
    "21) (This problem counts for 4 points.) Question regarding risk-neutral valuation. It’s often said that any derivative of the FX spot rate can be valued using the risk-neutral valuation theory (as in the section “Valuing FX options” of the week #3 lecture notes).\n",
    "\n",
    "    Assume the FX spot rate, S, follows a geometric Brownian motion, dS = μ S dt + σ S dW. Let V be a very simple derivative contract based on S, where V(St,t) = St at any time, t. In other words, at any time t the derivative V has value equal to the spot rate at that time.\n",
    "    \n",
    "    Does the argument in the section “Valuing FX options” of the week #3 lecture notes (specifically slides 16-20) apply to the function V described above? Explain why, or why the theory does not apply in this case."
   ]
  },
  {
   "cell_type": "markdown",
   "metadata": {},
   "source": [
    "<div style=\"font-family: 'Times New Roman'; font-size: 15px; color: green\">Ans: \n",
    "\n",
    "\n",
    "\n",
    "\n",
    "\n",
    "\n",
    "\n",
    "\n",
    "\n",
    "\n",
    "\n",
    "\n",
    "\n",
    "\n",
    "\n",
    "\n",
    "\n",
    "\n",
    "\n",
    "\n",
    "\n",
    "</div>"
   ]
  },
  {
   "cell_type": "markdown",
   "metadata": {},
   "source": [
    "22) For an GBP put / USD call with a strike of 1.1700, calculate the option price in the four ways discussed in Lecture #3. Also, assuming the notional is 85 million GBP, list the actual premium in GBP and USD amounts. Use the market information listed below:\n",
    "\n",
    "    Spot rate       1.2140\n",
    "\n",
    "    Trade date      23-Feb-2023\n",
    "\n",
    "    Expiry date     23-Aug-2023\n",
    "\n",
    "    Spot date       27-Feb-2023\n",
    "\n",
    "    Delivery date   25-Aug-2023\n",
    "\n",
    "    USD deposit rate    4.75%\n",
    "\n",
    "    GBP deposit rate    3.75% \n",
    "    \n",
    "    Implied volatility  11.35%\n",
    "\n",
    "    NOTE: Use ACT/360 when working with USD and ACT/365 when working with GBP interest rates. Also note that when working with “tau”, the trade date to expiry date period, money market conventions do not apply. For that period use ACT/365."
   ]
  },
  {
   "cell_type": "markdown",
   "metadata": {},
   "source": [
    "    Calculate option price:"
   ]
  },
  {
   "cell_type": "code",
   "execution_count": 64,
   "metadata": {},
   "outputs": [
    {
     "data": {
      "text/latex": [
       "$\\displaystyle P_{d/f} = 0.017706701840018775$"
      ],
      "text/plain": [
       "<IPython.core.display.Math object>"
      ]
     },
     "metadata": {},
     "output_type": "display_data"
    },
    {
     "data": {
      "text/latex": [
       "$\\displaystyle P_{f\\%} = 0.004426675460004694$"
      ],
      "text/plain": [
       "<IPython.core.display.Math object>"
      ]
     },
     "metadata": {},
     "output_type": "display_data"
    },
    {
     "data": {
      "text/latex": [
       "$\\displaystyle P_{d\\%} = 0.015133933196597244$"
      ],
      "text/plain": [
       "<IPython.core.display.Math object>"
      ]
     },
     "metadata": {},
     "output_type": "display_data"
    },
    {
     "data": {
      "text/latex": [
       "$\\displaystyle P_{f/d} = 0.012466172320096577$"
      ],
      "text/plain": [
       "<IPython.core.display.Math object>"
      ]
     },
     "metadata": {},
     "output_type": "display_data"
    }
   ],
   "source": [
    "# Define the trade and expiry dates as datetime objects\n",
    "trade_date = datetime.strptime('02-23-2023', '%m-%d-%Y')\n",
    "expiry_date = datetime.strptime('08-23-2023', '%m-%d-%Y')\n",
    "spot_date = datetime.strptime('02-27-2023', '%m-%d-%Y')\n",
    "delivery_date = datetime.strptime('08-25-2023', '%m-%d-%Y')\n",
    "\n",
    "# Define the other variables\n",
    "K = 1.1700\n",
    "S = 1.2140\n",
    "r_usd = 0.0475\n",
    "r_gbp = 0.0375\n",
    "implied_vol = 0.1135\n",
    "w_call = 1\n",
    "w_put = -1\n",
    "\n",
    "# Calculate the time to expiry and present value factors\n",
    "ACT = (delivery_date - spot_date).days\n",
    "tau = (expiry_date - trade_date).days / 365\n",
    "\n",
    "Pd = 1 / (1 + r_usd * ACT / 360)\n",
    "Pf = 1 / (1 + r_gbp * ACT / 365)\n",
    "\n",
    "# Calculate the forward price and the d1 and d2 values\n",
    "F = S * Pf / Pd\n",
    "\n",
    "d1 = (math.log(F / K) + 0.5 * implied_vol ** 2 * tau) / (implied_vol * tau ** 0.5)\n",
    "d2 = d1 - implied_vol * math.sqrt(tau)\n",
    "\n",
    "\n",
    "# Calculate the option price\n",
    "option_price1 = math.exp(- tau * r_usd) * (w_put * (F * stats.norm.cdf(w_put * d1) - K * stats.norm.cdf(w_put * d2)))\n",
    "option_price2 = option_price1 / 4\n",
    "option_price3 = option_price1 / K\n",
    "option_price4 = option_price1 / (S * K)\n",
    "\n",
    "\n",
    "display(Math(r'P_{d/f}' + ' = ' + str(option_price1)))\n",
    "display(Math(r'P_{f\\%}' + ' = ' + str(option_price2)))\n",
    "display(Math(r'P_{d\\%}' + ' = ' + str(option_price3)))\n",
    "display(Math(r'P_{f/d}' + ' = ' + str(option_price4)))"
   ]
  },
  {
   "cell_type": "markdown",
   "metadata": {},
   "source": [
    "    Calculate price premium:"
   ]
  },
  {
   "cell_type": "code",
   "execution_count": 66,
   "metadata": {},
   "outputs": [
    {
     "name": "stdout",
     "output_type": "stream",
     "text": [
      "Premium in GBP: 376267 GBP\n",
      "Premium in USD: 456789 USD\n"
     ]
    }
   ],
   "source": [
    "GBP_premium = 85e6 * option_price2\n",
    "USD_premium = GBP_premium * S\n",
    "\n",
    "print('Premium in GBP:', round(GBP_premium), 'GBP')\n",
    "print('Premium in USD:', round(USD_premium), 'USD')"
   ]
  },
  {
   "cell_type": "markdown",
   "metadata": {},
   "source": [
    "23) Assume that a USD-based bank buys the following option (from a client): USD call / JPY put struck at 120.00 with a notional of USD 100 million. If the current trading day is one day before the option’s maturity and the current spot rate is 131.87, then what size of spot transaction should the bank execute in order to hedge the value of the purchased option against movements in the exchange rate.\n",
    "\n",
    "    a) Sell USD 91 million \n",
    "\n",
    "    b) Sell USD 100 million \n",
    "\n",
    "    c) Sell USD 105 million \n",
    "\n",
    "    d) Sell USD 110 million\n",
    "    \n",
    "    Please write an explanation of why you think the answer you chose is correct."
   ]
  },
  {
   "cell_type": "markdown",
   "metadata": {},
   "source": [
    "out of the money or in the money?\n",
    "\n",
    "direction of the currency pairs\n",
    "\n",
    "USD- based bank\n",
    "\n",
    "you want to go ahead to close the book today!!"
   ]
  },
  {
   "cell_type": "code",
   "execution_count": 57,
   "metadata": {},
   "outputs": [
    {
     "data": {
      "text/plain": [
       "90998711"
      ]
     },
     "execution_count": 57,
     "metadata": {},
     "output_type": "execute_result"
    }
   ],
   "source": [
    "sell = 100e6 * 120/131.87\n",
    "round(sell)"
   ]
  },
  {
   "cell_type": "markdown",
   "metadata": {},
   "source": [
    "<div style=\"font-family: 'Times New Roman'; font-size: 15px; color: green\">Ans:  A\n",
    "    \n",
    "Since as of the day before, the JPY is cheaper than the option Price, so we want to sell USD and buy JPY before the maturity, and the next day we can excute our option to realize the profit.\n",
    "\n",
    "Exercising the option: 100M USD = 100M * 120 JPY\n",
    "\n",
    "So we need to sell 100M * 120 JPY / 131.87 = 90998710 USD which is approx. 91 million USD</div>"
   ]
  },
  {
   "cell_type": "code",
   "execution_count": null,
   "metadata": {},
   "outputs": [],
   "source": []
  }
 ],
 "metadata": {
  "kernelspec": {
   "display_name": "Python 3 (ipykernel)",
   "language": "python",
   "name": "python3"
  },
  "language_info": {
   "codemirror_mode": {
    "name": "ipython",
    "version": 3
   },
   "file_extension": ".py",
   "mimetype": "text/x-python",
   "name": "python",
   "nbconvert_exporter": "python",
   "pygments_lexer": "ipython3",
   "version": "3.9.6"
  },
  "vscode": {
   "interpreter": {
    "hash": "31f2aee4e71d21fbe5cf8b01ff0e069b9275f58929596ceb00d14d90e3e16cd6"
   }
  }
 },
 "nbformat": 4,
 "nbformat_minor": 2
}
